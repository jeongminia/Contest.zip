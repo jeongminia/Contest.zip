version https://git-lfs.github.com/spec/v1
oid sha256:ae16c3fbbac4e12e87aa2241ce0e87d91f70bdc665f099a9ccb9d7c21421e4a2
size 32999
